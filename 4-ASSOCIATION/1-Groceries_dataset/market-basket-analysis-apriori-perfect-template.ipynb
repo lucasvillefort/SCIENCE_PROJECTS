{
 "cells": [
  {
   "cell_type": "markdown",
   "id": "ef4376a7",
   "metadata": {
    "papermill": {
     "duration": 0.007828,
     "end_time": "2022-10-02T20:48:12.115212",
     "exception": false,
     "start_time": "2022-10-02T20:48:12.107384",
     "status": "completed"
    },
    "tags": []
   },
   "source": [
    "## **Executive Summary:**"
   ]
  },
  {
   "cell_type": "markdown",
   "id": "4b6d8b91",
   "metadata": {
    "papermill": {
     "duration": 0.007822,
     "end_time": "2022-10-02T20:48:12.131323",
     "exception": false,
     "start_time": "2022-10-02T20:48:12.123501",
     "status": "completed"
    },
    "tags": []
   },
   "source": [
    "1. ML Model Used : Apriori\n",
    "2. Operations Perfomed : Data pre-processing, EDA, Feature Selection and Model Execution"
   ]
  },
  {
   "cell_type": "markdown",
   "id": "98a5bd08",
   "metadata": {
    "papermill": {
     "duration": 0.007815,
     "end_time": "2022-10-02T20:48:12.147296",
     "exception": false,
     "start_time": "2022-10-02T20:48:12.139481",
     "status": "completed"
    },
    "tags": []
   },
   "source": [
    "## **Introduction:**"
   ]
  },
  {
   "cell_type": "markdown",
   "id": "e6ab9352",
   "metadata": {
    "papermill": {
     "duration": 0.007791,
     "end_time": "2022-10-02T20:48:12.163402",
     "exception": false,
     "start_time": "2022-10-02T20:48:12.155611",
     "status": "completed"
    },
    "tags": []
   },
   "source": [
    "During shopping online or watching movies, we often come around of some instances where we get recommendations like - 'You might want to buy this item with that' or 'Movie Recommedation as per your liking' and we sometimes think how come the site knows about my liking. As funny as it seems, this is a prime example of Association Rule where algorithm finds relation between multiple item based on data inputs and helps to drive insights for big online shopping companies or Movie Channels which is also popularly known in real world as **Market - Basket Analysis**\n",
    "\n",
    "In this code workbook, I have taken a approach to implement the same on a grocessary dataset to find out relationships between items sold.\n",
    "\n",
    "Link to the Project Request: https://www.kaggle.com/datasets/heeraldedhia/groceries-dataset?datasetId=877335&sortBy=voteCount\n"
   ]
  },
  {
   "cell_type": "markdown",
   "id": "71959c93",
   "metadata": {
    "papermill": {
     "duration": 0.007688,
     "end_time": "2022-10-02T20:48:12.179139",
     "exception": false,
     "start_time": "2022-10-02T20:48:12.171451",
     "status": "completed"
    },
    "tags": []
   },
   "source": [
    "## **Data Dictionary:** \n",
    "- **Member_number:** Customer Id  \n",
    "- **Date:** Date of purchase\n",
    "- **itemDescription:** Description of product purchased\n"
   ]
  },
  {
   "cell_type": "markdown",
   "id": "632a529d",
   "metadata": {
    "papermill": {
     "duration": 0.007776,
     "end_time": "2022-10-02T20:48:12.195045",
     "exception": false,
     "start_time": "2022-10-02T20:48:12.187269",
     "status": "completed"
    },
    "tags": []
   },
   "source": [
    "## **HTML Code for Customization:**"
   ]
  },
  {
   "cell_type": "code",
   "execution_count": 1,
   "id": "853291ff",
   "metadata": {
    "execution": {
     "iopub.execute_input": "2022-10-02T20:48:12.214886Z",
     "iopub.status.busy": "2022-10-02T20:48:12.213995Z",
     "iopub.status.idle": "2022-10-02T20:48:12.231798Z",
     "shell.execute_reply": "2022-10-02T20:48:12.230595Z"
    },
    "papermill": {
     "duration": 0.03091,
     "end_time": "2022-10-02T20:48:12.235161",
     "exception": false,
     "start_time": "2022-10-02T20:48:12.204251",
     "status": "completed"
    },
    "tags": []
   },
   "outputs": [
    {
     "data": {
      "text/html": [
       "\n",
       "<style>\n",
       ".output_png {\n",
       "    display: table-cell;\n",
       "    text-align: center;\n",
       "    vertical-align: middle;\n",
       "    horizontal-align: middle;\n",
       "}\n",
       "h1,h2 {\n",
       "    text-align: center;\n",
       "    background-color: pink;\n",
       "    padding: 20px;\n",
       "    margin: 0;\n",
       "    color: black;\n",
       "    font-family: ariel;\n",
       "    border-radius: 80px\n",
       "}\n",
       "\n",
       "h3 {\n",
       "    text-align: center;\n",
       "    border-style: solid;\n",
       "    border-width: 3px;\n",
       "    padding: 12px;\n",
       "    margin: 0;\n",
       "    color: black;\n",
       "    font-family: ariel;\n",
       "    border-radius: 80px;\n",
       "    border-color: gold;\n",
       "}\n",
       "\n",
       "body, p {\n",
       "    font-family: ariel;\n",
       "    font-size: 15px;\n",
       "    color: charcoal;\n",
       "}\n",
       "div {\n",
       "    font-size: 14px;\n",
       "    margin: 0;\n",
       "\n",
       "}\n",
       "\n",
       "h4 {\n",
       "    padding: 0px;\n",
       "    margin: 0;\n",
       "    font-family: ariel;\n",
       "    color: purple;\n",
       "}\n",
       "</style>\n"
      ],
      "text/plain": [
       "<IPython.core.display.HTML object>"
      ]
     },
     "execution_count": 1,
     "metadata": {},
     "output_type": "execute_result"
    }
   ],
   "source": [
    "from IPython.core.display import HTML\n",
    "HTML(\"\"\"\n",
    "<style>\n",
    ".output_png {\n",
    "    display: table-cell;\n",
    "    text-align: center;\n",
    "    vertical-align: middle;\n",
    "    horizontal-align: middle;\n",
    "}\n",
    "h1,h2 {\n",
    "    text-align: center;\n",
    "    background-color: pink;\n",
    "    padding: 20px;\n",
    "    margin: 0;\n",
    "    color: black;\n",
    "    font-family: ariel;\n",
    "    border-radius: 80px\n",
    "}\n",
    "\n",
    "h3 {\n",
    "    text-align: center;\n",
    "    border-style: solid;\n",
    "    border-width: 3px;\n",
    "    padding: 12px;\n",
    "    margin: 0;\n",
    "    color: black;\n",
    "    font-family: ariel;\n",
    "    border-radius: 80px;\n",
    "    border-color: gold;\n",
    "}\n",
    "\n",
    "body, p {\n",
    "    font-family: ariel;\n",
    "    font-size: 15px;\n",
    "    color: charcoal;\n",
    "}\n",
    "div {\n",
    "    font-size: 14px;\n",
    "    margin: 0;\n",
    "\n",
    "}\n",
    "\n",
    "h4 {\n",
    "    padding: 0px;\n",
    "    margin: 0;\n",
    "    font-family: ariel;\n",
    "    color: purple;\n",
    "}\n",
    "</style>\n",
    "\"\"\")"
   ]
  },
  {
   "cell_type": "markdown",
   "id": "97955d9a",
   "metadata": {
    "papermill": {
     "duration": 0.008006,
     "end_time": "2022-10-02T20:48:12.251697",
     "exception": false,
     "start_time": "2022-10-02T20:48:12.243691",
     "status": "completed"
    },
    "tags": []
   },
   "source": [
    "## **Flow of Execution:**\n",
    "\n",
    "1. Loading Necessary Packages\n",
    "2. Loading dataset\n",
    "3. Data Pre-Processing\n",
    "4. Performing EDA\n",
    "5. Apriori Implementation\n",
    "6. Result Customization"
   ]
  },
  {
   "cell_type": "markdown",
   "id": "5d6af6a0",
   "metadata": {
    "papermill": {
     "duration": 0.007936,
     "end_time": "2022-10-02T20:48:12.267858",
     "exception": false,
     "start_time": "2022-10-02T20:48:12.259922",
     "status": "completed"
    },
    "tags": []
   },
   "source": [
    "## **Step - 1 :** Loading Necessary Packages"
   ]
  },
  {
   "cell_type": "code",
   "execution_count": 2,
   "id": "dd8c75a8",
   "metadata": {
    "execution": {
     "iopub.execute_input": "2022-10-02T20:48:12.286313Z",
     "iopub.status.busy": "2022-10-02T20:48:12.285841Z",
     "iopub.status.idle": "2022-10-02T20:48:27.319203Z",
     "shell.execute_reply": "2022-10-02T20:48:27.316863Z"
    },
    "papermill": {
     "duration": 15.046939,
     "end_time": "2022-10-02T20:48:27.323012",
     "exception": false,
     "start_time": "2022-10-02T20:48:12.276073",
     "status": "completed"
    },
    "tags": []
   },
   "outputs": [
    {
     "name": "stdout",
     "output_type": "stream",
     "text": [
      "Collecting apyori\n",
      "  Downloading apyori-1.1.2.tar.gz (8.6 kB)\n",
      "  Preparing metadata (setup.py) ... \u001b[?25ldone\n",
      "\u001b[?25hBuilding wheels for collected packages: apyori\n",
      "  Building wheel for apyori (setup.py) ... \u001b[?25ldone\n",
      "\u001b[?25h  Created wheel for apyori: filename=apyori-1.1.2-py3-none-any.whl size=5955 sha256=de0900168e996b23053669323ce8c623b04ac8d2c958a76f16480bf58e00ee70\n",
      "  Stored in directory: /home/tony/.cache/pip/wheels/7f/49/e3/42c73b19a264de37129fadaa0c52f26cf50e87de08fb9804af\n",
      "Successfully built apyori\n",
      "Installing collected packages: apyori\n",
      "Successfully installed apyori-1.1.2\n"
     ]
    }
   ],
   "source": [
    "!pip install apyori  ## Installing apriori library"
   ]
  },
  {
   "cell_type": "code",
   "execution_count": 3,
   "id": "45ae565b",
   "metadata": {
    "execution": {
     "iopub.execute_input": "2022-10-02T20:48:27.343666Z",
     "iopub.status.busy": "2022-10-02T20:48:27.343182Z",
     "iopub.status.idle": "2022-10-02T20:48:28.474606Z",
     "shell.execute_reply": "2022-10-02T20:48:28.473475Z"
    },
    "papermill": {
     "duration": 1.144905,
     "end_time": "2022-10-02T20:48:28.477272",
     "exception": false,
     "start_time": "2022-10-02T20:48:27.332367",
     "status": "completed"
    },
    "tags": []
   },
   "outputs": [],
   "source": [
    "import numpy as np # linear algebra\n",
    "import pandas as pd # Data pre-processing\n",
    "import seaborn as sns # Required for plotting\n",
    "import matplotlib.pyplot as plt # Required for plotting"
   ]
  },
  {
   "cell_type": "markdown",
   "id": "7e90c611",
   "metadata": {
    "papermill": {
     "duration": 0.008647,
     "end_time": "2022-10-02T20:48:28.496078",
     "exception": false,
     "start_time": "2022-10-02T20:48:28.487431",
     "status": "completed"
    },
    "tags": []
   },
   "source": [
    "## **Step - 2 :** Loading dataset"
   ]
  },
  {
   "cell_type": "code",
   "execution_count": 4,
   "id": "779a47ca",
   "metadata": {
    "_cell_guid": "b1076dfc-b9ad-4769-8c92-a6c4dae69d19",
    "_uuid": "8f2839f25d086af736a60e9eeb907d3b93b6e0e5",
    "execution": {
     "iopub.execute_input": "2022-10-02T20:48:28.516864Z",
     "iopub.status.busy": "2022-10-02T20:48:28.515893Z",
     "iopub.status.idle": "2022-10-02T20:48:28.597475Z",
     "shell.execute_reply": "2022-10-02T20:48:28.596540Z"
    },
    "papermill": {
     "duration": 0.094736,
     "end_time": "2022-10-02T20:48:28.599812",
     "exception": false,
     "start_time": "2022-10-02T20:48:28.505076",
     "status": "completed"
    },
    "tags": []
   },
   "outputs": [
    {
     "data": {
      "text/html": [
       "<div>\n",
       "<style scoped>\n",
       "    .dataframe tbody tr th:only-of-type {\n",
       "        vertical-align: middle;\n",
       "    }\n",
       "\n",
       "    .dataframe tbody tr th {\n",
       "        vertical-align: top;\n",
       "    }\n",
       "\n",
       "    .dataframe thead th {\n",
       "        text-align: right;\n",
       "    }\n",
       "</style>\n",
       "<table border=\"1\" class=\"dataframe\">\n",
       "  <thead>\n",
       "    <tr style=\"text-align: right;\">\n",
       "      <th></th>\n",
       "      <th>Member_number</th>\n",
       "      <th>Date</th>\n",
       "      <th>itemDescription</th>\n",
       "    </tr>\n",
       "  </thead>\n",
       "  <tbody>\n",
       "    <tr>\n",
       "      <th>0</th>\n",
       "      <td>1808</td>\n",
       "      <td>21-07-2015</td>\n",
       "      <td>tropical fruit</td>\n",
       "    </tr>\n",
       "    <tr>\n",
       "      <th>1</th>\n",
       "      <td>2552</td>\n",
       "      <td>05-01-2015</td>\n",
       "      <td>whole milk</td>\n",
       "    </tr>\n",
       "    <tr>\n",
       "      <th>2</th>\n",
       "      <td>2300</td>\n",
       "      <td>19-09-2015</td>\n",
       "      <td>pip fruit</td>\n",
       "    </tr>\n",
       "    <tr>\n",
       "      <th>3</th>\n",
       "      <td>1187</td>\n",
       "      <td>12-12-2015</td>\n",
       "      <td>other vegetables</td>\n",
       "    </tr>\n",
       "    <tr>\n",
       "      <th>4</th>\n",
       "      <td>3037</td>\n",
       "      <td>01-02-2015</td>\n",
       "      <td>whole milk</td>\n",
       "    </tr>\n",
       "  </tbody>\n",
       "</table>\n",
       "</div>"
      ],
      "text/plain": [
       "   Member_number        Date   itemDescription\n",
       "0           1808  21-07-2015    tropical fruit\n",
       "1           2552  05-01-2015        whole milk\n",
       "2           2300  19-09-2015         pip fruit\n",
       "3           1187  12-12-2015  other vegetables\n",
       "4           3037  01-02-2015        whole milk"
      ]
     },
     "execution_count": 4,
     "metadata": {},
     "output_type": "execute_result"
    }
   ],
   "source": [
    "df = pd.read_csv(\"Groceries_dataset.csv\") ## Loading dataset\n",
    "df.head()"
   ]
  },
  {
   "cell_type": "code",
   "execution_count": 5,
   "id": "236a7459",
   "metadata": {
    "execution": {
     "iopub.execute_input": "2022-10-02T20:48:28.621279Z",
     "iopub.status.busy": "2022-10-02T20:48:28.619845Z",
     "iopub.status.idle": "2022-10-02T20:48:28.648795Z",
     "shell.execute_reply": "2022-10-02T20:48:28.647529Z"
    },
    "papermill": {
     "duration": 0.042565,
     "end_time": "2022-10-02T20:48:28.651744",
     "exception": false,
     "start_time": "2022-10-02T20:48:28.609179",
     "status": "completed"
    },
    "tags": []
   },
   "outputs": [
    {
     "name": "stdout",
     "output_type": "stream",
     "text": [
      "<class 'pandas.core.frame.DataFrame'>\n",
      "RangeIndex: 38765 entries, 0 to 38764\n",
      "Data columns (total 3 columns):\n",
      " #   Column           Non-Null Count  Dtype \n",
      "---  ------           --------------  ----- \n",
      " 0   Member_number    38765 non-null  int64 \n",
      " 1   Date             38765 non-null  object\n",
      " 2   itemDescription  38765 non-null  object\n",
      "dtypes: int64(1), object(2)\n",
      "memory usage: 908.7+ KB\n"
     ]
    }
   ],
   "source": [
    "df.info() # Checking data type information for validation purposes"
   ]
  },
  {
   "cell_type": "markdown",
   "id": "abebfa07",
   "metadata": {
    "papermill": {
     "duration": 0.009018,
     "end_time": "2022-10-02T20:48:28.670175",
     "exception": false,
     "start_time": "2022-10-02T20:48:28.661157",
     "status": "completed"
    },
    "tags": []
   },
   "source": [
    "Interpretation: - No Null values should be present "
   ]
  },
  {
   "cell_type": "code",
   "execution_count": 6,
   "id": "efeea7be",
   "metadata": {
    "execution": {
     "iopub.execute_input": "2022-10-02T20:48:28.691612Z",
     "iopub.status.busy": "2022-10-02T20:48:28.690477Z",
     "iopub.status.idle": "2022-10-02T20:48:28.706320Z",
     "shell.execute_reply": "2022-10-02T20:48:28.705053Z"
    },
    "papermill": {
     "duration": 0.029724,
     "end_time": "2022-10-02T20:48:28.709229",
     "exception": false,
     "start_time": "2022-10-02T20:48:28.679505",
     "status": "completed"
    },
    "tags": []
   },
   "outputs": [
    {
     "data": {
      "text/plain": [
       "Member_number      0\n",
       "Date               0\n",
       "itemDescription    0\n",
       "dtype: int64"
      ]
     },
     "execution_count": 6,
     "metadata": {},
     "output_type": "execute_result"
    }
   ],
   "source": [
    "df.isnull().sum().sort_values(ascending=False) ## Checking availability of NULL values"
   ]
  },
  {
   "cell_type": "markdown",
   "id": "0e351635",
   "metadata": {
    "papermill": {
     "duration": 0.009027,
     "end_time": "2022-10-02T20:48:28.727786",
     "exception": false,
     "start_time": "2022-10-02T20:48:28.718759",
     "status": "completed"
    },
    "tags": []
   },
   "source": [
    "Note - No NULLs present"
   ]
  },
  {
   "cell_type": "markdown",
   "id": "26461c79",
   "metadata": {
    "papermill": {
     "duration": 0.00894,
     "end_time": "2022-10-02T20:48:28.746078",
     "exception": false,
     "start_time": "2022-10-02T20:48:28.737138",
     "status": "completed"
    },
    "tags": []
   },
   "source": [
    "## **Step - 3 :** Data Pre-Processing"
   ]
  },
  {
   "cell_type": "code",
   "execution_count": 7,
   "id": "da46fac7",
   "metadata": {
    "execution": {
     "iopub.execute_input": "2022-10-02T20:48:28.766826Z",
     "iopub.status.busy": "2022-10-02T20:48:28.766030Z",
     "iopub.status.idle": "2022-10-02T20:48:28.792175Z",
     "shell.execute_reply": "2022-10-02T20:48:28.790594Z"
    },
    "papermill": {
     "duration": 0.039735,
     "end_time": "2022-10-02T20:48:28.795250",
     "exception": false,
     "start_time": "2022-10-02T20:48:28.755515",
     "status": "completed"
    },
    "tags": []
   },
   "outputs": [
    {
     "name": "stdout",
     "output_type": "stream",
     "text": [
      "<class 'pandas.core.frame.DataFrame'>\n",
      "RangeIndex: 38765 entries, 0 to 38764\n",
      "Data columns (total 3 columns):\n",
      " #   Column           Non-Null Count  Dtype         \n",
      "---  ------           --------------  -----         \n",
      " 0   Member_number    38765 non-null  int64         \n",
      " 1   Date             38765 non-null  datetime64[ns]\n",
      " 2   itemDescription  38765 non-null  object        \n",
      "dtypes: datetime64[ns](1), int64(1), object(1)\n",
      "memory usage: 908.7+ KB\n"
     ]
    },
    {
     "name": "stderr",
     "output_type": "stream",
     "text": [
      "/tmp/ipykernel_39969/2319157033.py:1: UserWarning: Parsing dates in %d-%m-%Y format when dayfirst=False (the default) was specified. Pass `dayfirst=True` or specify a format to silence this warning.\n",
      "  df['Date'] = pd.to_datetime(df['Date']) ## Type-Conversion from Object to Dateime\n"
     ]
    }
   ],
   "source": [
    "df['Date'] = pd.to_datetime(df['Date']) ## Type-Conversion from Object to Dateime\n",
    "df.info()"
   ]
  },
  {
   "cell_type": "code",
   "execution_count": 8,
   "id": "afe49413",
   "metadata": {
    "execution": {
     "iopub.execute_input": "2022-10-02T20:48:28.817137Z",
     "iopub.status.busy": "2022-10-02T20:48:28.816513Z",
     "iopub.status.idle": "2022-10-02T20:48:28.826514Z",
     "shell.execute_reply": "2022-10-02T20:48:28.825653Z"
    },
    "papermill": {
     "duration": 0.023275,
     "end_time": "2022-10-02T20:48:28.828805",
     "exception": false,
     "start_time": "2022-10-02T20:48:28.805530",
     "status": "completed"
    },
    "tags": []
   },
   "outputs": [
    {
     "data": {
      "text/html": [
       "<div>\n",
       "<style scoped>\n",
       "    .dataframe tbody tr th:only-of-type {\n",
       "        vertical-align: middle;\n",
       "    }\n",
       "\n",
       "    .dataframe tbody tr th {\n",
       "        vertical-align: top;\n",
       "    }\n",
       "\n",
       "    .dataframe thead th {\n",
       "        text-align: right;\n",
       "    }\n",
       "</style>\n",
       "<table border=\"1\" class=\"dataframe\">\n",
       "  <thead>\n",
       "    <tr style=\"text-align: right;\">\n",
       "      <th></th>\n",
       "      <th>Member_number</th>\n",
       "      <th>Date</th>\n",
       "      <th>itemDescription</th>\n",
       "    </tr>\n",
       "  </thead>\n",
       "  <tbody>\n",
       "    <tr>\n",
       "      <th>0</th>\n",
       "      <td>1808</td>\n",
       "      <td>2015-07-21</td>\n",
       "      <td>tropical fruit</td>\n",
       "    </tr>\n",
       "    <tr>\n",
       "      <th>1</th>\n",
       "      <td>2552</td>\n",
       "      <td>2015-01-05</td>\n",
       "      <td>whole milk</td>\n",
       "    </tr>\n",
       "    <tr>\n",
       "      <th>2</th>\n",
       "      <td>2300</td>\n",
       "      <td>2015-09-19</td>\n",
       "      <td>pip fruit</td>\n",
       "    </tr>\n",
       "    <tr>\n",
       "      <th>3</th>\n",
       "      <td>1187</td>\n",
       "      <td>2015-12-12</td>\n",
       "      <td>other vegetables</td>\n",
       "    </tr>\n",
       "    <tr>\n",
       "      <th>4</th>\n",
       "      <td>3037</td>\n",
       "      <td>2015-02-01</td>\n",
       "      <td>whole milk</td>\n",
       "    </tr>\n",
       "  </tbody>\n",
       "</table>\n",
       "</div>"
      ],
      "text/plain": [
       "   Member_number       Date   itemDescription\n",
       "0           1808 2015-07-21    tropical fruit\n",
       "1           2552 2015-01-05        whole milk\n",
       "2           2300 2015-09-19         pip fruit\n",
       "3           1187 2015-12-12  other vegetables\n",
       "4           3037 2015-02-01        whole milk"
      ]
     },
     "execution_count": 8,
     "metadata": {},
     "output_type": "execute_result"
    }
   ],
   "source": [
    "df.head() ## Schema check"
   ]
  },
  {
   "cell_type": "markdown",
   "id": "7874227c",
   "metadata": {
    "papermill": {
     "duration": 0.009463,
     "end_time": "2022-10-02T20:48:28.848002",
     "exception": false,
     "start_time": "2022-10-02T20:48:28.838539",
     "status": "completed"
    },
    "tags": []
   },
   "source": [
    "## **Step - 4 :** Performing EDA"
   ]
  },
  {
   "cell_type": "markdown",
   "id": "6d17cccb",
   "metadata": {
    "papermill": {
     "duration": 0.009311,
     "end_time": "2022-10-02T20:48:28.866903",
     "exception": false,
     "start_time": "2022-10-02T20:48:28.857592",
     "status": "completed"
    },
    "tags": []
   },
   "source": [
    "### **Step - 4.1 :** Top 10 Sold Items"
   ]
  },
  {
   "cell_type": "code",
   "execution_count": 10,
   "id": "e05a5950",
   "metadata": {
    "execution": {
     "iopub.execute_input": "2022-10-02T20:48:28.888961Z",
     "iopub.status.busy": "2022-10-02T20:48:28.888263Z",
     "iopub.status.idle": "2022-10-02T20:48:29.184265Z",
     "shell.execute_reply": "2022-10-02T20:48:29.182958Z"
    },
    "papermill": {
     "duration": 0.310209,
     "end_time": "2022-10-02T20:48:29.186918",
     "exception": false,
     "start_time": "2022-10-02T20:48:28.876709",
     "status": "completed"
    },
    "tags": []
   },
   "outputs": [
    {
     "data": {
      "image/png": "[encoded data removed]",
      "text/plain": [
       "<Figure size 1600x900 with 1 Axes>"
      ]
     },
     "metadata": {},
     "output_type": "display_data"
    }
   ],
   "source": [
    "## Creating distribution of Item Sold\n",
    "\n",
    "Item_distr = df.groupby(by = \"itemDescription\").size().reset_index(name='Frequency').sort_values(by = 'Frequency',ascending=False).head(10)\n",
    "\n",
    "## Declaring variables\n",
    "\n",
    "bars = Item_distr[\"itemDescription\"]\n",
    "height = Item_distr[\"Frequency\"]\n",
    "x_pos = np.arange(len(bars))\n",
    "\n",
    "## Defining Figure Size\n",
    "\n",
    "plt.figure(figsize=(16,9))\n",
    "\n",
    "# Create bars\n",
    "plt.bar(x_pos, height, color=(0.3, 0.4, 0.6, 0.6))\n",
    "\n",
    "# Add title and axis names\n",
    "plt.title(\"Top 10 Sold Items\")\n",
    "plt.xlabel(\"Item Name\")\n",
    "plt.ylabel(\"Number of Quantity Sold\")\n",
    "\n",
    "# Create names on the x-axis\n",
    "plt.xticks(x_pos, bars)\n",
    "\n",
    "# Show graph\n",
    "plt.show()\n"
   ]
  },
  {
   "cell_type": "markdown",
   "id": "6f953834",
   "metadata": {
    "papermill": {
     "duration": 0.009696,
     "end_time": "2022-10-02T20:48:29.206667",
     "exception": false,
     "start_time": "2022-10-02T20:48:29.196971",
     "status": "completed"
    },
    "tags": []
   },
   "source": [
    "### **Step - 4.2 :** Month-Year Sales"
   ]
  },
  {
   "cell_type": "code",
   "execution_count": 11,
   "id": "16cb8ca7",
   "metadata": {
    "execution": {
     "iopub.execute_input": "2022-10-02T20:48:29.228727Z",
     "iopub.status.busy": "2022-10-02T20:48:29.228040Z",
     "iopub.status.idle": "2022-10-02T20:48:29.244009Z",
     "shell.execute_reply": "2022-10-02T20:48:29.242268Z"
    },
    "papermill": {
     "duration": 0.030135,
     "end_time": "2022-10-02T20:48:29.246778",
     "exception": false,
     "start_time": "2022-10-02T20:48:29.216643",
     "status": "completed"
    },
    "tags": []
   },
   "outputs": [
    {
     "data": {
      "text/html": [
       "<div>\n",
       "<style scoped>\n",
       "    .dataframe tbody tr th:only-of-type {\n",
       "        vertical-align: middle;\n",
       "    }\n",
       "\n",
       "    .dataframe tbody tr th {\n",
       "        vertical-align: top;\n",
       "    }\n",
       "\n",
       "    .dataframe thead th {\n",
       "        text-align: right;\n",
       "    }\n",
       "</style>\n",
       "<table border=\"1\" class=\"dataframe\">\n",
       "  <thead>\n",
       "    <tr style=\"text-align: right;\">\n",
       "      <th></th>\n",
       "      <th>Member_number</th>\n",
       "      <th>itemDescription</th>\n",
       "    </tr>\n",
       "    <tr>\n",
       "      <th>Date</th>\n",
       "      <th></th>\n",
       "      <th></th>\n",
       "    </tr>\n",
       "  </thead>\n",
       "  <tbody>\n",
       "    <tr>\n",
       "      <th>2015-07-21</th>\n",
       "      <td>1808</td>\n",
       "      <td>tropical fruit</td>\n",
       "    </tr>\n",
       "    <tr>\n",
       "      <th>2015-01-05</th>\n",
       "      <td>2552</td>\n",
       "      <td>whole milk</td>\n",
       "    </tr>\n",
       "    <tr>\n",
       "      <th>2015-09-19</th>\n",
       "      <td>2300</td>\n",
       "      <td>pip fruit</td>\n",
       "    </tr>\n",
       "    <tr>\n",
       "      <th>2015-12-12</th>\n",
       "      <td>1187</td>\n",
       "      <td>other vegetables</td>\n",
       "    </tr>\n",
       "    <tr>\n",
       "      <th>2015-02-01</th>\n",
       "      <td>3037</td>\n",
       "      <td>whole milk</td>\n",
       "    </tr>\n",
       "    <tr>\n",
       "      <th>...</th>\n",
       "      <td>...</td>\n",
       "      <td>...</td>\n",
       "    </tr>\n",
       "    <tr>\n",
       "      <th>2014-10-08</th>\n",
       "      <td>4471</td>\n",
       "      <td>sliced cheese</td>\n",
       "    </tr>\n",
       "    <tr>\n",
       "      <th>2014-02-23</th>\n",
       "      <td>2022</td>\n",
       "      <td>candy</td>\n",
       "    </tr>\n",
       "    <tr>\n",
       "      <th>2014-04-16</th>\n",
       "      <td>1097</td>\n",
       "      <td>cake bar</td>\n",
       "    </tr>\n",
       "    <tr>\n",
       "      <th>2014-12-03</th>\n",
       "      <td>1510</td>\n",
       "      <td>fruit/vegetable juice</td>\n",
       "    </tr>\n",
       "    <tr>\n",
       "      <th>2014-12-26</th>\n",
       "      <td>1521</td>\n",
       "      <td>cat food</td>\n",
       "    </tr>\n",
       "  </tbody>\n",
       "</table>\n",
       "<p>38765 rows × 2 columns</p>\n",
       "</div>"
      ],
      "text/plain": [
       "            Member_number        itemDescription\n",
       "Date                                            \n",
       "2015-07-21           1808         tropical fruit\n",
       "2015-01-05           2552             whole milk\n",
       "2015-09-19           2300              pip fruit\n",
       "2015-12-12           1187       other vegetables\n",
       "2015-02-01           3037             whole milk\n",
       "...                   ...                    ...\n",
       "2014-10-08           4471          sliced cheese\n",
       "2014-02-23           2022                  candy\n",
       "2014-04-16           1097               cake bar\n",
       "2014-12-03           1510  fruit/vegetable juice\n",
       "2014-12-26           1521               cat food\n",
       "\n",
       "[38765 rows x 2 columns]"
      ]
     },
     "execution_count": 11,
     "metadata": {},
     "output_type": "execute_result"
    }
   ],
   "source": [
    "df_date=df.set_index(['Date']) ## Setting date as index for plotting purpose\n",
    "df_date"
   ]
  },
  {
   "cell_type": "code",
   "execution_count": 12,
   "id": "ee512834",
   "metadata": {
    "execution": {
     "iopub.execute_input": "2022-10-02T20:48:29.269960Z",
     "iopub.status.busy": "2022-10-02T20:48:29.269328Z",
     "iopub.status.idle": "2022-10-02T20:48:29.620332Z",
     "shell.execute_reply": "2022-10-02T20:48:29.619065Z"
    },
    "papermill": {
     "duration": 0.365639,
     "end_time": "2022-10-02T20:48:29.622891",
     "exception": false,
     "start_time": "2022-10-02T20:48:29.257252",
     "status": "completed"
    },
    "tags": []
   },
   "outputs": [
    {
     "name": "stderr",
     "output_type": "stream",
     "text": [
      "/tmp/ipykernel_39969/3818121300.py:1: FutureWarning: 'M' is deprecated and will be removed in a future version, please use 'ME' instead.\n",
      "  df_date.resample(\"M\")['itemDescription'].count().plot(figsize = (20,8), grid = True, title = \"Number by Items Sold by Month\").set(xlabel = \"Date\", ylabel = \"Number of Items Sold\")\n"
     ]
    },
    {
     "data": {
      "text/plain": [
       "[Text(0.5, 0, 'Date'), Text(0, 0.5, 'Number of Items Sold')]"
      ]
     },
     "execution_count": 12,
     "metadata": {},
     "output_type": "execute_result"
    },
    {
     "data": {
      "image/png": "[encoded data removed]",
      "text/plain": [
       "<Figure size 2000x800 with 1 Axes>"
      ]
     },
     "metadata": {},
     "output_type": "display_data"
    }
   ],
   "source": [
    "df_date.resample(\"M\")['itemDescription'].count().plot(figsize = (20,8), grid = True, title = \"Number by Items Sold by Month\").set(xlabel = \"Date\", ylabel = \"Number of Items Sold\")"
   ]
  },
  {
   "cell_type": "markdown",
   "id": "833aadf2",
   "metadata": {
    "papermill": {
     "duration": 0.013366,
     "end_time": "2022-10-02T20:48:29.647896",
     "exception": false,
     "start_time": "2022-10-02T20:48:29.634530",
     "status": "completed"
    },
    "tags": []
   },
   "source": [
    "## **Step - 5 :** Apriori Implementation"
   ]
  },
  {
   "cell_type": "markdown",
   "id": "806b1e4f",
   "metadata": {
    "papermill": {
     "duration": 0.012017,
     "end_time": "2022-10-02T20:48:29.671916",
     "exception": false,
     "start_time": "2022-10-02T20:48:29.659899",
     "status": "completed"
    },
    "tags": []
   },
   "source": [
    "Apriori is an algorithm for frequent itemset mining and association rule learning over relational databases. It proceeds by identifying the frequent individual items in the database and extending them to larger and larger item sets as long as those item sets appear sufficiently often in the database. The frequent itemsets determined by Apriori can be used to determine association rules which highlight general trends in the database: this has applications in domains such as market basket analysis.\n",
    "\n",
    "![](https://lh4.googleusercontent.com/ODPqvTXuc6ZnqnvjcIKaVqKQvvPAV9oqqqrNWvOgJl54Iw-qBSke0UdBOqRu9i0Awj6bEfM7Jedz4f9t8zORrJwrcyQv3OWlcCvI3ZAJjUVEt-gBbvrzJr1XjXAgMqcyu9vvU3y66rkizWjJzQ)"
   ]
  },
  {
   "cell_type": "markdown",
   "id": "ec72cf7c",
   "metadata": {
    "papermill": {
     "duration": 0.011533,
     "end_time": "2022-10-02T20:48:29.695343",
     "exception": false,
     "start_time": "2022-10-02T20:48:29.683810",
     "status": "completed"
    },
    "tags": []
   },
   "source": [
    "### **Step - 5.1 :** Data Preparation"
   ]
  },
  {
   "cell_type": "code",
   "execution_count": 14,
   "id": "3ffdd8f3",
   "metadata": {
    "execution": {
     "iopub.execute_input": "2022-10-02T20:48:29.721950Z",
     "iopub.status.busy": "2022-10-02T20:48:29.720695Z",
     "iopub.status.idle": "2022-10-02T20:48:29.763301Z",
     "shell.execute_reply": "2022-10-02T20:48:29.762162Z"
    },
    "papermill": {
     "duration": 0.059497,
     "end_time": "2022-10-02T20:48:29.766388",
     "exception": false,
     "start_time": "2022-10-02T20:48:29.706891",
     "status": "completed"
    },
    "tags": []
   },
   "outputs": [
    {
     "data": {
      "text/html": [
       "<div>\n",
       "<style scoped>\n",
       "    .dataframe tbody tr th:only-of-type {\n",
       "        vertical-align: middle;\n",
       "    }\n",
       "\n",
       "    .dataframe tbody tr th {\n",
       "        vertical-align: top;\n",
       "    }\n",
       "\n",
       "    .dataframe thead th {\n",
       "        text-align: right;\n",
       "    }\n",
       "</style>\n",
       "<table border=\"1\" class=\"dataframe\">\n",
       "  <thead>\n",
       "    <tr style=\"text-align: right;\">\n",
       "      <th></th>\n",
       "      <th>Member_number</th>\n",
       "      <th>itemDescription</th>\n",
       "    </tr>\n",
       "  </thead>\n",
       "  <tbody>\n",
       "    <tr>\n",
       "      <th>3578</th>\n",
       "      <td>5000</td>\n",
       "      <td>soda</td>\n",
       "    </tr>\n",
       "    <tr>\n",
       "      <th>34885</th>\n",
       "      <td>5000</td>\n",
       "      <td>semi-finished bread</td>\n",
       "    </tr>\n",
       "    <tr>\n",
       "      <th>11728</th>\n",
       "      <td>5000</td>\n",
       "      <td>fruit/vegetable juice</td>\n",
       "    </tr>\n",
       "    <tr>\n",
       "      <th>9340</th>\n",
       "      <td>5000</td>\n",
       "      <td>bottled beer</td>\n",
       "    </tr>\n",
       "    <tr>\n",
       "      <th>19727</th>\n",
       "      <td>5000</td>\n",
       "      <td>root vegetables</td>\n",
       "    </tr>\n",
       "    <tr>\n",
       "      <th>...</th>\n",
       "      <td>...</td>\n",
       "      <td>...</td>\n",
       "    </tr>\n",
       "    <tr>\n",
       "      <th>13331</th>\n",
       "      <td>1000</td>\n",
       "      <td>whole milk</td>\n",
       "    </tr>\n",
       "    <tr>\n",
       "      <th>17778</th>\n",
       "      <td>1000</td>\n",
       "      <td>pickled vegetables</td>\n",
       "    </tr>\n",
       "    <tr>\n",
       "      <th>6388</th>\n",
       "      <td>1000</td>\n",
       "      <td>sausage</td>\n",
       "    </tr>\n",
       "    <tr>\n",
       "      <th>20992</th>\n",
       "      <td>1000</td>\n",
       "      <td>semi-finished bread</td>\n",
       "    </tr>\n",
       "    <tr>\n",
       "      <th>8395</th>\n",
       "      <td>1000</td>\n",
       "      <td>whole milk</td>\n",
       "    </tr>\n",
       "  </tbody>\n",
       "</table>\n",
       "<p>38765 rows × 2 columns</p>\n",
       "</div>"
      ],
      "text/plain": [
       "       Member_number        itemDescription\n",
       "3578            5000                   soda\n",
       "34885           5000    semi-finished bread\n",
       "11728           5000  fruit/vegetable juice\n",
       "9340            5000           bottled beer\n",
       "19727           5000        root vegetables\n",
       "...              ...                    ...\n",
       "13331           1000             whole milk\n",
       "17778           1000     pickled vegetables\n",
       "6388            1000                sausage\n",
       "20992           1000    semi-finished bread\n",
       "8395            1000             whole milk\n",
       "\n",
       "[38765 rows x 2 columns]"
      ]
     },
     "execution_count": 14,
     "metadata": {},
     "output_type": "execute_result"
    }
   ],
   "source": [
    "cust_level = df[[\"Member_number\", \"itemDescription\"]].sort_values(by = \"Member_number\", ascending = False) ## Selecting only required variables for modelling\n",
    "cust_level['itemDescription'] = cust_level['itemDescription'].str.strip() # Removing white spaces if any\n",
    "cust_level"
   ]
  },
  {
   "cell_type": "markdown",
   "id": "26bf99d6",
   "metadata": {
    "papermill": {
     "duration": 0.011168,
     "end_time": "2022-10-02T20:48:29.789351",
     "exception": false,
     "start_time": "2022-10-02T20:48:29.778183",
     "status": "completed"
    },
    "tags": []
   },
   "source": [
    "### **Step - 5.2 :** Create Transaction list"
   ]
  },
  {
   "cell_type": "code",
   "execution_count": 34,
   "id": "4937e96f",
   "metadata": {},
   "outputs": [
    {
     "data": {
      "text/html": [
       "<div>\n",
       "<style scoped>\n",
       "    .dataframe tbody tr th:only-of-type {\n",
       "        vertical-align: middle;\n",
       "    }\n",
       "\n",
       "    .dataframe tbody tr th {\n",
       "        vertical-align: top;\n",
       "    }\n",
       "\n",
       "    .dataframe thead th {\n",
       "        text-align: right;\n",
       "    }\n",
       "</style>\n",
       "<table border=\"1\" class=\"dataframe\">\n",
       "  <thead>\n",
       "    <tr style=\"text-align: right;\">\n",
       "      <th>itemDescription</th>\n",
       "      <th>Member_number</th>\n",
       "      <th>Instant food products</th>\n",
       "      <th>UHT-milk</th>\n",
       "      <th>abrasive cleaner</th>\n",
       "      <th>artif. sweetener</th>\n",
       "      <th>baby cosmetics</th>\n",
       "      <th>bags</th>\n",
       "      <th>baking powder</th>\n",
       "      <th>bathroom cleaner</th>\n",
       "      <th>beef</th>\n",
       "      <th>...</th>\n",
       "      <th>turkey</th>\n",
       "      <th>vinegar</th>\n",
       "      <th>waffles</th>\n",
       "      <th>whipped/sour cream</th>\n",
       "      <th>whisky</th>\n",
       "      <th>white bread</th>\n",
       "      <th>white wine</th>\n",
       "      <th>whole milk</th>\n",
       "      <th>yogurt</th>\n",
       "      <th>zwieback</th>\n",
       "    </tr>\n",
       "  </thead>\n",
       "  <tbody>\n",
       "    <tr>\n",
       "      <th>0</th>\n",
       "      <td>1000</td>\n",
       "      <td>0.0</td>\n",
       "      <td>0.0</td>\n",
       "      <td>0.0</td>\n",
       "      <td>0.0</td>\n",
       "      <td>0.0</td>\n",
       "      <td>0.0</td>\n",
       "      <td>0.0</td>\n",
       "      <td>0.0</td>\n",
       "      <td>0.0</td>\n",
       "      <td>...</td>\n",
       "      <td>0.0</td>\n",
       "      <td>0.0</td>\n",
       "      <td>0.0</td>\n",
       "      <td>0.0</td>\n",
       "      <td>0.0</td>\n",
       "      <td>0.0</td>\n",
       "      <td>0.0</td>\n",
       "      <td>2.0</td>\n",
       "      <td>1.0</td>\n",
       "      <td>0.0</td>\n",
       "    </tr>\n",
       "    <tr>\n",
       "      <th>1</th>\n",
       "      <td>1001</td>\n",
       "      <td>0.0</td>\n",
       "      <td>0.0</td>\n",
       "      <td>0.0</td>\n",
       "      <td>0.0</td>\n",
       "      <td>0.0</td>\n",
       "      <td>0.0</td>\n",
       "      <td>0.0</td>\n",
       "      <td>0.0</td>\n",
       "      <td>1.0</td>\n",
       "      <td>...</td>\n",
       "      <td>0.0</td>\n",
       "      <td>0.0</td>\n",
       "      <td>0.0</td>\n",
       "      <td>1.0</td>\n",
       "      <td>0.0</td>\n",
       "      <td>1.0</td>\n",
       "      <td>0.0</td>\n",
       "      <td>2.0</td>\n",
       "      <td>0.0</td>\n",
       "      <td>0.0</td>\n",
       "    </tr>\n",
       "    <tr>\n",
       "      <th>2</th>\n",
       "      <td>1002</td>\n",
       "      <td>0.0</td>\n",
       "      <td>0.0</td>\n",
       "      <td>0.0</td>\n",
       "      <td>0.0</td>\n",
       "      <td>0.0</td>\n",
       "      <td>0.0</td>\n",
       "      <td>0.0</td>\n",
       "      <td>0.0</td>\n",
       "      <td>0.0</td>\n",
       "      <td>...</td>\n",
       "      <td>0.0</td>\n",
       "      <td>0.0</td>\n",
       "      <td>0.0</td>\n",
       "      <td>0.0</td>\n",
       "      <td>0.0</td>\n",
       "      <td>0.0</td>\n",
       "      <td>0.0</td>\n",
       "      <td>1.0</td>\n",
       "      <td>0.0</td>\n",
       "      <td>0.0</td>\n",
       "    </tr>\n",
       "    <tr>\n",
       "      <th>3</th>\n",
       "      <td>1003</td>\n",
       "      <td>0.0</td>\n",
       "      <td>0.0</td>\n",
       "      <td>0.0</td>\n",
       "      <td>0.0</td>\n",
       "      <td>0.0</td>\n",
       "      <td>0.0</td>\n",
       "      <td>0.0</td>\n",
       "      <td>0.0</td>\n",
       "      <td>0.0</td>\n",
       "      <td>...</td>\n",
       "      <td>0.0</td>\n",
       "      <td>0.0</td>\n",
       "      <td>0.0</td>\n",
       "      <td>0.0</td>\n",
       "      <td>0.0</td>\n",
       "      <td>0.0</td>\n",
       "      <td>0.0</td>\n",
       "      <td>0.0</td>\n",
       "      <td>0.0</td>\n",
       "      <td>0.0</td>\n",
       "    </tr>\n",
       "    <tr>\n",
       "      <th>4</th>\n",
       "      <td>1004</td>\n",
       "      <td>0.0</td>\n",
       "      <td>0.0</td>\n",
       "      <td>0.0</td>\n",
       "      <td>0.0</td>\n",
       "      <td>0.0</td>\n",
       "      <td>0.0</td>\n",
       "      <td>0.0</td>\n",
       "      <td>0.0</td>\n",
       "      <td>0.0</td>\n",
       "      <td>...</td>\n",
       "      <td>0.0</td>\n",
       "      <td>0.0</td>\n",
       "      <td>0.0</td>\n",
       "      <td>0.0</td>\n",
       "      <td>0.0</td>\n",
       "      <td>0.0</td>\n",
       "      <td>0.0</td>\n",
       "      <td>3.0</td>\n",
       "      <td>0.0</td>\n",
       "      <td>0.0</td>\n",
       "    </tr>\n",
       "  </tbody>\n",
       "</table>\n",
       "<p>5 rows × 168 columns</p>\n",
       "</div>"
      ],
      "text/plain": [
       "itemDescription  Member_number  Instant food products  UHT-milk  \\\n",
       "0                         1000                    0.0       0.0   \n",
       "1                         1001                    0.0       0.0   \n",
       "2                         1002                    0.0       0.0   \n",
       "3                         1003                    0.0       0.0   \n",
       "4                         1004                    0.0       0.0   \n",
       "\n",
       "itemDescription  abrasive cleaner  artif. sweetener  baby cosmetics  bags  \\\n",
       "0                             0.0               0.0             0.0   0.0   \n",
       "1                             0.0               0.0             0.0   0.0   \n",
       "2                             0.0               0.0             0.0   0.0   \n",
       "3                             0.0               0.0             0.0   0.0   \n",
       "4                             0.0               0.0             0.0   0.0   \n",
       "\n",
       "itemDescription  baking powder  bathroom cleaner  beef  ...  turkey  vinegar  \\\n",
       "0                          0.0               0.0   0.0  ...     0.0      0.0   \n",
       "1                          0.0               0.0   1.0  ...     0.0      0.0   \n",
       "2                          0.0               0.0   0.0  ...     0.0      0.0   \n",
       "3                          0.0               0.0   0.0  ...     0.0      0.0   \n",
       "4                          0.0               0.0   0.0  ...     0.0      0.0   \n",
       "\n",
       "itemDescription  waffles  whipped/sour cream  whisky  white bread  white wine  \\\n",
       "0                    0.0                 0.0     0.0          0.0         0.0   \n",
       "1                    0.0                 1.0     0.0          1.0         0.0   \n",
       "2                    0.0                 0.0     0.0          0.0         0.0   \n",
       "3                    0.0                 0.0     0.0          0.0         0.0   \n",
       "4                    0.0                 0.0     0.0          0.0         0.0   \n",
       "\n",
       "itemDescription  whole milk  yogurt  zwieback  \n",
       "0                       2.0     1.0       0.0  \n",
       "1                       2.0     0.0       0.0  \n",
       "2                       1.0     0.0       0.0  \n",
       "3                       0.0     0.0       0.0  \n",
       "4                       3.0     0.0       0.0  \n",
       "\n",
       "[5 rows x 168 columns]"
      ]
     },
     "execution_count": 34,
     "metadata": {},
     "output_type": "execute_result"
    }
   ],
   "source": [
    "transactions2 = df.groupby(['Member_number', 'itemDescription'])['itemDescription'].count().unstack().fillna(0).reset_index()\n",
    "transactions2.head()"
   ]
  },
  {
   "cell_type": "code",
   "execution_count": 35,
   "id": "7e9c2951",
   "metadata": {},
   "outputs": [
    {
     "name": "stderr",
     "output_type": "stream",
     "text": [
      "/tmp/ipykernel_39969/2194292793.py:7: FutureWarning: DataFrame.applymap has been deprecated. Use DataFrame.map instead.\n",
      "  transactions2 = transactions2.iloc[:, 1:transactions2.shape[1]].applymap(one_hot_encoder)\n"
     ]
    },
    {
     "data": {
      "text/html": [
       "<div>\n",
       "<style scoped>\n",
       "    .dataframe tbody tr th:only-of-type {\n",
       "        vertical-align: middle;\n",
       "    }\n",
       "\n",
       "    .dataframe tbody tr th {\n",
       "        vertical-align: top;\n",
       "    }\n",
       "\n",
       "    .dataframe thead th {\n",
       "        text-align: right;\n",
       "    }\n",
       "</style>\n",
       "<table border=\"1\" class=\"dataframe\">\n",
       "  <thead>\n",
       "    <tr style=\"text-align: right;\">\n",
       "      <th>itemDescription</th>\n",
       "      <th>Instant food products</th>\n",
       "      <th>UHT-milk</th>\n",
       "      <th>abrasive cleaner</th>\n",
       "      <th>artif. sweetener</th>\n",
       "      <th>baby cosmetics</th>\n",
       "      <th>bags</th>\n",
       "      <th>baking powder</th>\n",
       "      <th>bathroom cleaner</th>\n",
       "      <th>beef</th>\n",
       "      <th>berries</th>\n",
       "      <th>...</th>\n",
       "      <th>turkey</th>\n",
       "      <th>vinegar</th>\n",
       "      <th>waffles</th>\n",
       "      <th>whipped/sour cream</th>\n",
       "      <th>whisky</th>\n",
       "      <th>white bread</th>\n",
       "      <th>white wine</th>\n",
       "      <th>whole milk</th>\n",
       "      <th>yogurt</th>\n",
       "      <th>zwieback</th>\n",
       "    </tr>\n",
       "  </thead>\n",
       "  <tbody>\n",
       "    <tr>\n",
       "      <th>0</th>\n",
       "      <td>0</td>\n",
       "      <td>0</td>\n",
       "      <td>0</td>\n",
       "      <td>0</td>\n",
       "      <td>0</td>\n",
       "      <td>0</td>\n",
       "      <td>0</td>\n",
       "      <td>0</td>\n",
       "      <td>0</td>\n",
       "      <td>0</td>\n",
       "      <td>...</td>\n",
       "      <td>0</td>\n",
       "      <td>0</td>\n",
       "      <td>0</td>\n",
       "      <td>0</td>\n",
       "      <td>0</td>\n",
       "      <td>0</td>\n",
       "      <td>0</td>\n",
       "      <td>1</td>\n",
       "      <td>1</td>\n",
       "      <td>0</td>\n",
       "    </tr>\n",
       "    <tr>\n",
       "      <th>1</th>\n",
       "      <td>0</td>\n",
       "      <td>0</td>\n",
       "      <td>0</td>\n",
       "      <td>0</td>\n",
       "      <td>0</td>\n",
       "      <td>0</td>\n",
       "      <td>0</td>\n",
       "      <td>0</td>\n",
       "      <td>1</td>\n",
       "      <td>0</td>\n",
       "      <td>...</td>\n",
       "      <td>0</td>\n",
       "      <td>0</td>\n",
       "      <td>0</td>\n",
       "      <td>1</td>\n",
       "      <td>0</td>\n",
       "      <td>1</td>\n",
       "      <td>0</td>\n",
       "      <td>1</td>\n",
       "      <td>0</td>\n",
       "      <td>0</td>\n",
       "    </tr>\n",
       "    <tr>\n",
       "      <th>2</th>\n",
       "      <td>0</td>\n",
       "      <td>0</td>\n",
       "      <td>0</td>\n",
       "      <td>0</td>\n",
       "      <td>0</td>\n",
       "      <td>0</td>\n",
       "      <td>0</td>\n",
       "      <td>0</td>\n",
       "      <td>0</td>\n",
       "      <td>0</td>\n",
       "      <td>...</td>\n",
       "      <td>0</td>\n",
       "      <td>0</td>\n",
       "      <td>0</td>\n",
       "      <td>0</td>\n",
       "      <td>0</td>\n",
       "      <td>0</td>\n",
       "      <td>0</td>\n",
       "      <td>1</td>\n",
       "      <td>0</td>\n",
       "      <td>0</td>\n",
       "    </tr>\n",
       "    <tr>\n",
       "      <th>3</th>\n",
       "      <td>0</td>\n",
       "      <td>0</td>\n",
       "      <td>0</td>\n",
       "      <td>0</td>\n",
       "      <td>0</td>\n",
       "      <td>0</td>\n",
       "      <td>0</td>\n",
       "      <td>0</td>\n",
       "      <td>0</td>\n",
       "      <td>0</td>\n",
       "      <td>...</td>\n",
       "      <td>0</td>\n",
       "      <td>0</td>\n",
       "      <td>0</td>\n",
       "      <td>0</td>\n",
       "      <td>0</td>\n",
       "      <td>0</td>\n",
       "      <td>0</td>\n",
       "      <td>0</td>\n",
       "      <td>0</td>\n",
       "      <td>0</td>\n",
       "    </tr>\n",
       "    <tr>\n",
       "      <th>4</th>\n",
       "      <td>0</td>\n",
       "      <td>0</td>\n",
       "      <td>0</td>\n",
       "      <td>0</td>\n",
       "      <td>0</td>\n",
       "      <td>0</td>\n",
       "      <td>0</td>\n",
       "      <td>0</td>\n",
       "      <td>0</td>\n",
       "      <td>0</td>\n",
       "      <td>...</td>\n",
       "      <td>0</td>\n",
       "      <td>0</td>\n",
       "      <td>0</td>\n",
       "      <td>0</td>\n",
       "      <td>0</td>\n",
       "      <td>0</td>\n",
       "      <td>0</td>\n",
       "      <td>1</td>\n",
       "      <td>0</td>\n",
       "      <td>0</td>\n",
       "    </tr>\n",
       "  </tbody>\n",
       "</table>\n",
       "<p>5 rows × 167 columns</p>\n",
       "</div>"
      ],
      "text/plain": [
       "itemDescription  Instant food products  UHT-milk  abrasive cleaner  \\\n",
       "0                                    0         0                 0   \n",
       "1                                    0         0                 0   \n",
       "2                                    0         0                 0   \n",
       "3                                    0         0                 0   \n",
       "4                                    0         0                 0   \n",
       "\n",
       "itemDescription  artif. sweetener  baby cosmetics  bags  baking powder  \\\n",
       "0                               0               0     0              0   \n",
       "1                               0               0     0              0   \n",
       "2                               0               0     0              0   \n",
       "3                               0               0     0              0   \n",
       "4                               0               0     0              0   \n",
       "\n",
       "itemDescription  bathroom cleaner  beef  berries  ...  turkey  vinegar  \\\n",
       "0                               0     0        0  ...       0        0   \n",
       "1                               0     1        0  ...       0        0   \n",
       "2                               0     0        0  ...       0        0   \n",
       "3                               0     0        0  ...       0        0   \n",
       "4                               0     0        0  ...       0        0   \n",
       "\n",
       "itemDescription  waffles  whipped/sour cream  whisky  white bread  white wine  \\\n",
       "0                      0                   0       0            0           0   \n",
       "1                      0                   1       0            1           0   \n",
       "2                      0                   0       0            0           0   \n",
       "3                      0                   0       0            0           0   \n",
       "4                      0                   0       0            0           0   \n",
       "\n",
       "itemDescription  whole milk  yogurt  zwieback  \n",
       "0                         1       1         0  \n",
       "1                         1       0         0  \n",
       "2                         1       0         0  \n",
       "3                         0       0         0  \n",
       "4                         1       0         0  \n",
       "\n",
       "[5 rows x 167 columns]"
      ]
     },
     "execution_count": 35,
     "metadata": {},
     "output_type": "execute_result"
    }
   ],
   "source": [
    "def one_hot_encoder(k):\n",
    "    if k <= 0:\n",
    "        return 0\n",
    "    if k >= 1:\n",
    "        return 1\n",
    "    \n",
    "transactions2 = transactions2.iloc[:, 1:transactions2.shape[1]].applymap(one_hot_encoder)\n",
    "transactions2.head()"
   ]
  },
  {
   "cell_type": "markdown",
   "id": "0b72e73a",
   "metadata": {
    "papermill": {
     "duration": 0.011178,
     "end_time": "2022-10-02T20:48:30.340010",
     "exception": false,
     "start_time": "2022-10-02T20:48:30.328832",
     "status": "completed"
    },
    "tags": []
   },
   "source": [
    "### **Step - 5.3 :** Train Model"
   ]
  },
  {
   "cell_type": "code",
   "execution_count": 40,
   "id": "43a1c5bb",
   "metadata": {
    "execution": {
     "iopub.execute_input": "2022-10-02T20:48:30.366029Z",
     "iopub.status.busy": "2022-10-02T20:48:30.365383Z",
     "iopub.status.idle": "2022-10-02T20:48:30.372061Z",
     "shell.execute_reply": "2022-10-02T20:48:30.370939Z"
    },
    "papermill": {
     "duration": 0.022824,
     "end_time": "2022-10-02T20:48:30.374670",
     "exception": false,
     "start_time": "2022-10-02T20:48:30.351846",
     "status": "completed"
    },
    "tags": []
   },
   "outputs": [
    {
     "name": "stderr",
     "output_type": "stream",
     "text": [
      "/home/tony/anaconda3/lib/python3.12/site-packages/mlxtend/frequent_patterns/fpcommon.py:109: DeprecationWarning: DataFrames with non-bool types result in worse computationalperformance and their support might be discontinued in the future.Please use a DataFrame with bool type\n",
      "  warnings.warn(\n"
     ]
    },
    {
     "data": {
      "text/html": [
       "<div>\n",
       "<style scoped>\n",
       "    .dataframe tbody tr th:only-of-type {\n",
       "        vertical-align: middle;\n",
       "    }\n",
       "\n",
       "    .dataframe tbody tr th {\n",
       "        vertical-align: top;\n",
       "    }\n",
       "\n",
       "    .dataframe thead th {\n",
       "        text-align: right;\n",
       "    }\n",
       "</style>\n",
       "<table border=\"1\" class=\"dataframe\">\n",
       "  <thead>\n",
       "    <tr style=\"text-align: right;\">\n",
       "      <th></th>\n",
       "      <th>support</th>\n",
       "      <th>itemsets</th>\n",
       "    </tr>\n",
       "  </thead>\n",
       "  <tbody>\n",
       "    <tr>\n",
       "      <th>161</th>\n",
       "      <td>0.025141</td>\n",
       "      <td>(shopping bags, butter)</td>\n",
       "    </tr>\n",
       "    <tr>\n",
       "      <th>69</th>\n",
       "      <td>0.025141</td>\n",
       "      <td>(spread cheese)</td>\n",
       "    </tr>\n",
       "    <tr>\n",
       "      <th>405</th>\n",
       "      <td>0.025141</td>\n",
       "      <td>(sliced cheese, whole milk)</td>\n",
       "    </tr>\n",
       "    <tr>\n",
       "      <th>412</th>\n",
       "      <td>0.025141</td>\n",
       "      <td>(specialty bar, whole milk)</td>\n",
       "    </tr>\n",
       "    <tr>\n",
       "      <th>85</th>\n",
       "      <td>0.025141</td>\n",
       "      <td>(beef, pip fruit)</td>\n",
       "    </tr>\n",
       "    <tr>\n",
       "      <th>248</th>\n",
       "      <td>0.025141</td>\n",
       "      <td>(domestic eggs, shopping bags)</td>\n",
       "    </tr>\n",
       "    <tr>\n",
       "      <th>467</th>\n",
       "      <td>0.025141</td>\n",
       "      <td>(citrus fruit, whole milk, tropical fruit)</td>\n",
       "    </tr>\n",
       "    <tr>\n",
       "      <th>480</th>\n",
       "      <td>0.025141</td>\n",
       "      <td>(yogurt, frankfurter, whole milk)</td>\n",
       "    </tr>\n",
       "    <tr>\n",
       "      <th>119</th>\n",
       "      <td>0.025141</td>\n",
       "      <td>(chocolate, bottled water)</td>\n",
       "    </tr>\n",
       "    <tr>\n",
       "      <th>239</th>\n",
       "      <td>0.025141</td>\n",
       "      <td>(dessert, root vegetables)</td>\n",
       "    </tr>\n",
       "    <tr>\n",
       "      <th>540</th>\n",
       "      <td>0.025141</td>\n",
       "      <td>(shopping bags, rolls/buns, yogurt)</td>\n",
       "    </tr>\n",
       "    <tr>\n",
       "      <th>559</th>\n",
       "      <td>0.025141</td>\n",
       "      <td>(shopping bags, whole milk, tropical fruit)</td>\n",
       "    </tr>\n",
       "    <tr>\n",
       "      <th>524</th>\n",
       "      <td>0.025141</td>\n",
       "      <td>(pastry, root vegetables, whole milk)</td>\n",
       "    </tr>\n",
       "    <tr>\n",
       "      <th>224</th>\n",
       "      <td>0.025398</td>\n",
       "      <td>(root vegetables, cream cheese )</td>\n",
       "    </tr>\n",
       "    <tr>\n",
       "      <th>217</th>\n",
       "      <td>0.025398</td>\n",
       "      <td>(coffee, sausage)</td>\n",
       "    </tr>\n",
       "    <tr>\n",
       "      <th>204</th>\n",
       "      <td>0.025398</td>\n",
       "      <td>(citrus fruit, pork)</td>\n",
       "    </tr>\n",
       "    <tr>\n",
       "      <th>302</th>\n",
       "      <td>0.025398</td>\n",
       "      <td>(margarine, tropical fruit)</td>\n",
       "    </tr>\n",
       "    <tr>\n",
       "      <th>167</th>\n",
       "      <td>0.025398</td>\n",
       "      <td>(rolls/buns, butter milk)</td>\n",
       "    </tr>\n",
       "    <tr>\n",
       "      <th>473</th>\n",
       "      <td>0.025398</td>\n",
       "      <td>(yogurt, whole milk, curd)</td>\n",
       "    </tr>\n",
       "    <tr>\n",
       "      <th>476</th>\n",
       "      <td>0.025654</td>\n",
       "      <td>(domestic eggs, whole milk, yogurt)</td>\n",
       "    </tr>\n",
       "    <tr>\n",
       "      <th>462</th>\n",
       "      <td>0.025654</td>\n",
       "      <td>(rolls/buns, soda, citrus fruit)</td>\n",
       "    </tr>\n",
       "    <tr>\n",
       "      <th>434</th>\n",
       "      <td>0.025654</td>\n",
       "      <td>(other vegetables, bottled water, tropical fruit)</td>\n",
       "    </tr>\n",
       "    <tr>\n",
       "      <th>186</th>\n",
       "      <td>0.025654</td>\n",
       "      <td>(chewing gum, whole milk)</td>\n",
       "    </tr>\n",
       "    <tr>\n",
       "      <th>88</th>\n",
       "      <td>0.025654</td>\n",
       "      <td>(beef, sausage)</td>\n",
       "    </tr>\n",
       "    <tr>\n",
       "      <th>171</th>\n",
       "      <td>0.025654</td>\n",
       "      <td>(domestic eggs, canned beer)</td>\n",
       "    </tr>\n",
       "  </tbody>\n",
       "</table>\n",
       "</div>"
      ],
      "text/plain": [
       "      support                                           itemsets\n",
       "161  0.025141                            (shopping bags, butter)\n",
       "69   0.025141                                    (spread cheese)\n",
       "405  0.025141                        (sliced cheese, whole milk)\n",
       "412  0.025141                        (specialty bar, whole milk)\n",
       "85   0.025141                                  (beef, pip fruit)\n",
       "248  0.025141                     (domestic eggs, shopping bags)\n",
       "467  0.025141         (citrus fruit, whole milk, tropical fruit)\n",
       "480  0.025141                  (yogurt, frankfurter, whole milk)\n",
       "119  0.025141                         (chocolate, bottled water)\n",
       "239  0.025141                         (dessert, root vegetables)\n",
       "540  0.025141                (shopping bags, rolls/buns, yogurt)\n",
       "559  0.025141        (shopping bags, whole milk, tropical fruit)\n",
       "524  0.025141              (pastry, root vegetables, whole milk)\n",
       "224  0.025398                   (root vegetables, cream cheese )\n",
       "217  0.025398                                  (coffee, sausage)\n",
       "204  0.025398                               (citrus fruit, pork)\n",
       "302  0.025398                        (margarine, tropical fruit)\n",
       "167  0.025398                          (rolls/buns, butter milk)\n",
       "473  0.025398                         (yogurt, whole milk, curd)\n",
       "476  0.025654                (domestic eggs, whole milk, yogurt)\n",
       "462  0.025654                   (rolls/buns, soda, citrus fruit)\n",
       "434  0.025654  (other vegetables, bottled water, tropical fruit)\n",
       "186  0.025654                          (chewing gum, whole milk)\n",
       "88   0.025654                                    (beef, sausage)\n",
       "171  0.025654                       (domestic eggs, canned beer)"
      ]
     },
     "execution_count": 40,
     "metadata": {},
     "output_type": "execute_result"
    }
   ],
   "source": [
    "from mlxtend.frequent_patterns import apriori\n",
    "from mlxtend.frequent_patterns import association_rules\n",
    "# Finding the most frequent items sold together\n",
    "frequent_itemsets = apriori(transactions2, min_support=0.025, use_colnames=True, max_len=3).sort_values(by='support')\n",
    "frequent_itemsets.head(25)\n"
   ]
  },
  {
   "cell_type": "markdown",
   "id": "aed48eb3",
   "metadata": {
    "papermill": {
     "duration": 0.011235,
     "end_time": "2022-10-02T20:48:30.635962",
     "exception": false,
     "start_time": "2022-10-02T20:48:30.624727",
     "status": "completed"
    },
    "tags": []
   },
   "source": [
    "## **Step - 6 :** Result Customization"
   ]
  },
  {
   "cell_type": "code",
   "execution_count": 41,
   "id": "de1e80b5",
   "metadata": {},
   "outputs": [
    {
     "data": {
      "text/html": [
       "<div>\n",
       "<style scoped>\n",
       "    .dataframe tbody tr th:only-of-type {\n",
       "        vertical-align: middle;\n",
       "    }\n",
       "\n",
       "    .dataframe tbody tr th {\n",
       "        vertical-align: top;\n",
       "    }\n",
       "\n",
       "    .dataframe thead th {\n",
       "        text-align: right;\n",
       "    }\n",
       "</style>\n",
       "<table border=\"1\" class=\"dataframe\">\n",
       "  <thead>\n",
       "    <tr style=\"text-align: right;\">\n",
       "      <th></th>\n",
       "      <th>antecedents</th>\n",
       "      <th>consequents</th>\n",
       "      <th>support</th>\n",
       "      <th>confidence</th>\n",
       "      <th>lift</th>\n",
       "    </tr>\n",
       "  </thead>\n",
       "  <tbody>\n",
       "    <tr>\n",
       "      <th>874</th>\n",
       "      <td>(yogurt, rolls/buns)</td>\n",
       "      <td>(sausage)</td>\n",
       "      <td>0.035659</td>\n",
       "      <td>0.320276</td>\n",
       "      <td>1.554717</td>\n",
       "    </tr>\n",
       "    <tr>\n",
       "      <th>879</th>\n",
       "      <td>(sausage)</td>\n",
       "      <td>(yogurt, rolls/buns)</td>\n",
       "      <td>0.035659</td>\n",
       "      <td>0.173101</td>\n",
       "      <td>1.554717</td>\n",
       "    </tr>\n",
       "    <tr>\n",
       "      <th>456</th>\n",
       "      <td>(root vegetables, whole milk)</td>\n",
       "      <td>(shopping bags)</td>\n",
       "      <td>0.029246</td>\n",
       "      <td>0.258503</td>\n",
       "      <td>1.536046</td>\n",
       "    </tr>\n",
       "    <tr>\n",
       "      <th>457</th>\n",
       "      <td>(shopping bags)</td>\n",
       "      <td>(root vegetables, whole milk)</td>\n",
       "      <td>0.029246</td>\n",
       "      <td>0.173780</td>\n",
       "      <td>1.536046</td>\n",
       "    </tr>\n",
       "    <tr>\n",
       "      <th>877</th>\n",
       "      <td>(yogurt)</td>\n",
       "      <td>(rolls/buns, sausage)</td>\n",
       "      <td>0.035659</td>\n",
       "      <td>0.126020</td>\n",
       "      <td>1.530298</td>\n",
       "    </tr>\n",
       "    <tr>\n",
       "      <th>876</th>\n",
       "      <td>(rolls/buns, sausage)</td>\n",
       "      <td>(yogurt)</td>\n",
       "      <td>0.035659</td>\n",
       "      <td>0.433022</td>\n",
       "      <td>1.530298</td>\n",
       "    </tr>\n",
       "    <tr>\n",
       "      <th>947</th>\n",
       "      <td>(sausage)</td>\n",
       "      <td>(yogurt, other vegetables)</td>\n",
       "      <td>0.037199</td>\n",
       "      <td>0.180573</td>\n",
       "      <td>1.500795</td>\n",
       "    </tr>\n",
       "    <tr>\n",
       "      <th>942</th>\n",
       "      <td>(yogurt, other vegetables)</td>\n",
       "      <td>(sausage)</td>\n",
       "      <td>0.037199</td>\n",
       "      <td>0.309168</td>\n",
       "      <td>1.500795</td>\n",
       "    </tr>\n",
       "    <tr>\n",
       "      <th>631</th>\n",
       "      <td>(shopping bags)</td>\n",
       "      <td>(other vegetables, soda)</td>\n",
       "      <td>0.031042</td>\n",
       "      <td>0.184451</td>\n",
       "      <td>1.485518</td>\n",
       "    </tr>\n",
       "    <tr>\n",
       "      <th>630</th>\n",
       "      <td>(other vegetables, soda)</td>\n",
       "      <td>(shopping bags)</td>\n",
       "      <td>0.031042</td>\n",
       "      <td>0.250000</td>\n",
       "      <td>1.485518</td>\n",
       "    </tr>\n",
       "    <tr>\n",
       "      <th>1194</th>\n",
       "      <td>(whole milk, sausage)</td>\n",
       "      <td>(yogurt)</td>\n",
       "      <td>0.044895</td>\n",
       "      <td>0.419664</td>\n",
       "      <td>1.483093</td>\n",
       "    </tr>\n",
       "    <tr>\n",
       "      <th>1195</th>\n",
       "      <td>(yogurt)</td>\n",
       "      <td>(whole milk, sausage)</td>\n",
       "      <td>0.044895</td>\n",
       "      <td>0.158658</td>\n",
       "      <td>1.483093</td>\n",
       "    </tr>\n",
       "    <tr>\n",
       "      <th>319</th>\n",
       "      <td>(root vegetables, whole milk)</td>\n",
       "      <td>(canned beer)</td>\n",
       "      <td>0.027707</td>\n",
       "      <td>0.244898</td>\n",
       "      <td>1.482317</td>\n",
       "    </tr>\n",
       "    <tr>\n",
       "      <th>322</th>\n",
       "      <td>(canned beer)</td>\n",
       "      <td>(root vegetables, whole milk)</td>\n",
       "      <td>0.027707</td>\n",
       "      <td>0.167702</td>\n",
       "      <td>1.482317</td>\n",
       "    </tr>\n",
       "    <tr>\n",
       "      <th>885</th>\n",
       "      <td>(sausage)</td>\n",
       "      <td>(rolls/buns, soda)</td>\n",
       "      <td>0.035916</td>\n",
       "      <td>0.174346</td>\n",
       "      <td>1.455249</td>\n",
       "    </tr>\n",
       "    <tr>\n",
       "      <th>880</th>\n",
       "      <td>(rolls/buns, soda)</td>\n",
       "      <td>(sausage)</td>\n",
       "      <td>0.035916</td>\n",
       "      <td>0.299786</td>\n",
       "      <td>1.455249</td>\n",
       "    </tr>\n",
       "    <tr>\n",
       "      <th>198</th>\n",
       "      <td>(soda, whole milk)</td>\n",
       "      <td>(curd)</td>\n",
       "      <td>0.026424</td>\n",
       "      <td>0.174873</td>\n",
       "      <td>1.447248</td>\n",
       "    </tr>\n",
       "    <tr>\n",
       "      <th>203</th>\n",
       "      <td>(curd)</td>\n",
       "      <td>(soda, whole milk)</td>\n",
       "      <td>0.026424</td>\n",
       "      <td>0.218684</td>\n",
       "      <td>1.447248</td>\n",
       "    </tr>\n",
       "    <tr>\n",
       "      <th>1197</th>\n",
       "      <td>(sausage)</td>\n",
       "      <td>(yogurt, whole milk)</td>\n",
       "      <td>0.044895</td>\n",
       "      <td>0.217933</td>\n",
       "      <td>1.447192</td>\n",
       "    </tr>\n",
       "    <tr>\n",
       "      <th>1192</th>\n",
       "      <td>(yogurt, whole milk)</td>\n",
       "      <td>(sausage)</td>\n",
       "      <td>0.044895</td>\n",
       "      <td>0.298126</td>\n",
       "      <td>1.447192</td>\n",
       "    </tr>\n",
       "    <tr>\n",
       "      <th>903</th>\n",
       "      <td>(shopping bags)</td>\n",
       "      <td>(soda, whole milk)</td>\n",
       "      <td>0.036685</td>\n",
       "      <td>0.217988</td>\n",
       "      <td>1.442643</td>\n",
       "    </tr>\n",
       "    <tr>\n",
       "      <th>902</th>\n",
       "      <td>(soda, whole milk)</td>\n",
       "      <td>(shopping bags)</td>\n",
       "      <td>0.036685</td>\n",
       "      <td>0.242784</td>\n",
       "      <td>1.442643</td>\n",
       "    </tr>\n",
       "    <tr>\n",
       "      <th>246</th>\n",
       "      <td>(whole milk, butter)</td>\n",
       "      <td>(yogurt)</td>\n",
       "      <td>0.026937</td>\n",
       "      <td>0.406977</td>\n",
       "      <td>1.438255</td>\n",
       "    </tr>\n",
       "    <tr>\n",
       "      <th>247</th>\n",
       "      <td>(yogurt)</td>\n",
       "      <td>(whole milk, butter)</td>\n",
       "      <td>0.026937</td>\n",
       "      <td>0.095195</td>\n",
       "      <td>1.438255</td>\n",
       "    </tr>\n",
       "    <tr>\n",
       "      <th>944</th>\n",
       "      <td>(other vegetables, sausage)</td>\n",
       "      <td>(yogurt)</td>\n",
       "      <td>0.037199</td>\n",
       "      <td>0.400552</td>\n",
       "      <td>1.415552</td>\n",
       "    </tr>\n",
       "  </tbody>\n",
       "</table>\n",
       "</div>"
      ],
      "text/plain": [
       "                        antecedents                    consequents   support  \\\n",
       "874            (yogurt, rolls/buns)                      (sausage)  0.035659   \n",
       "879                       (sausage)           (yogurt, rolls/buns)  0.035659   \n",
       "456   (root vegetables, whole milk)                (shopping bags)  0.029246   \n",
       "457                 (shopping bags)  (root vegetables, whole milk)  0.029246   \n",
       "877                        (yogurt)          (rolls/buns, sausage)  0.035659   \n",
       "876           (rolls/buns, sausage)                       (yogurt)  0.035659   \n",
       "947                       (sausage)     (yogurt, other vegetables)  0.037199   \n",
       "942      (yogurt, other vegetables)                      (sausage)  0.037199   \n",
       "631                 (shopping bags)       (other vegetables, soda)  0.031042   \n",
       "630        (other vegetables, soda)                (shopping bags)  0.031042   \n",
       "1194          (whole milk, sausage)                       (yogurt)  0.044895   \n",
       "1195                       (yogurt)          (whole milk, sausage)  0.044895   \n",
       "319   (root vegetables, whole milk)                  (canned beer)  0.027707   \n",
       "322                   (canned beer)  (root vegetables, whole milk)  0.027707   \n",
       "885                       (sausage)             (rolls/buns, soda)  0.035916   \n",
       "880              (rolls/buns, soda)                      (sausage)  0.035916   \n",
       "198              (soda, whole milk)                         (curd)  0.026424   \n",
       "203                          (curd)             (soda, whole milk)  0.026424   \n",
       "1197                      (sausage)           (yogurt, whole milk)  0.044895   \n",
       "1192           (yogurt, whole milk)                      (sausage)  0.044895   \n",
       "903                 (shopping bags)             (soda, whole milk)  0.036685   \n",
       "902              (soda, whole milk)                (shopping bags)  0.036685   \n",
       "246            (whole milk, butter)                       (yogurt)  0.026937   \n",
       "247                        (yogurt)           (whole milk, butter)  0.026937   \n",
       "944     (other vegetables, sausage)                       (yogurt)  0.037199   \n",
       "\n",
       "      confidence      lift  \n",
       "874     0.320276  1.554717  \n",
       "879     0.173101  1.554717  \n",
       "456     0.258503  1.536046  \n",
       "457     0.173780  1.536046  \n",
       "877     0.126020  1.530298  \n",
       "876     0.433022  1.530298  \n",
       "947     0.180573  1.500795  \n",
       "942     0.309168  1.500795  \n",
       "631     0.184451  1.485518  \n",
       "630     0.250000  1.485518  \n",
       "1194    0.419664  1.483093  \n",
       "1195    0.158658  1.483093  \n",
       "319     0.244898  1.482317  \n",
       "322     0.167702  1.482317  \n",
       "885     0.174346  1.455249  \n",
       "880     0.299786  1.455249  \n",
       "198     0.174873  1.447248  \n",
       "203     0.218684  1.447248  \n",
       "1197    0.217933  1.447192  \n",
       "1192    0.298126  1.447192  \n",
       "903     0.217988  1.442643  \n",
       "902     0.242784  1.442643  \n",
       "246     0.406977  1.438255  \n",
       "247     0.095195  1.438255  \n",
       "944     0.400552  1.415552  "
      ]
     },
     "execution_count": 41,
     "metadata": {},
     "output_type": "execute_result"
    }
   ],
   "source": [
    "# Finding the most frequent items sold together\n",
    "# Creating association rules for indicating astecedent and consequent items\n",
    "rules = association_rules(frequent_itemsets, metric=\"lift\", min_threshold=1).sort_values('lift', ascending=False)\n",
    "rules = rules[['antecedents', 'consequents', 'support', 'confidence', 'lift']]\n",
    "rules.head(25)"
   ]
  }
 ],
 "metadata": {
  "kernelspec": {
   "display_name": "base",
   "language": "python",
   "name": "python3"
  },
  "language_info": {
   "codemirror_mode": {
    "name": "ipython",
    "version": 3
   },
   "file_extension": ".py",
   "mimetype": "text/x-python",
   "name": "python",
   "nbconvert_exporter": "python",
   "pygments_lexer": "ipython3",
   "version": "3.12.4"
  },
  "papermill": {
   "default_parameters": {},
   "duration": 29.570671,
   "end_time": "2022-10-02T20:48:31.551290",
   "environment_variables": {},
   "exception": null,
   "input_path": "__notebook__.ipynb",
   "output_path": "__notebook__.ipynb",
   "parameters": {},
   "start_time": "2022-10-02T20:48:01.980619",
   "version": "2.3.4"
  }
 },
 "nbformat": 4,
 "nbformat_minor": 5
}
